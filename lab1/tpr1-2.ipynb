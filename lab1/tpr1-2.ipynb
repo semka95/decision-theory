{
 "cells": [
  {
   "cell_type": "code",
   "execution_count": 136,
   "metadata": {},
   "outputs": [
    {
     "data": {
      "text/plain": [
       "{'Suppliers': [130, 55, 80, 65, 135],\n",
       " 'Consumers': [130, 75, 65, 60, 75, 60],\n",
       " 'Costs': [[6, 6, 8, 5, 4, 3],\n",
       "  [2, 4, 3, 9, 8, 5],\n",
       "  [3, 5, 7, 9, 6, 11],\n",
       "  [3, 5, 4, 4, 2, 1],\n",
       "  [2, 5, 6, 3, 2, 8]]}"
      ]
     },
     "execution_count": 136,
     "metadata": {},
     "output_type": "execute_result"
    }
   ],
   "source": [
    "import json\n",
    "import numpy as np\n",
    "\n",
    "\n",
    "with open('Problem2.json') as json_file:  \n",
    "    raw_data = json.load(json_file)\n",
    "raw_data"
   ]
  },
  {
   "cell_type": "code",
   "execution_count": 137,
   "metadata": {},
   "outputs": [],
   "source": [
    "suppliers = np.array(raw_data['Suppliers'])\n",
    "consumers = np.array(raw_data['Consumers'])\n",
    "costs = np.array(raw_data['Costs'])\n",
    "capacity = np.zeros(costs.shape)"
   ]
  },
  {
   "cell_type": "code",
   "execution_count": 138,
   "metadata": {},
   "outputs": [],
   "source": [
    "def satisfy(consumer_idx, cp_cons, cp_supp):\n",
    "    supplier_index = 0\n",
    "    while supplier_index < len(cp_supp):\n",
    "        consumer = cp_cons[consumer_idx]\n",
    "        supplier = cp_supp[supplier_index]\n",
    "        if consumer==0: \n",
    "            break\n",
    "        if supplier==0:\n",
    "            supplier_index += 1\n",
    "            continue\n",
    "        capacity[supplier_index][consumer_idx] = consumer if supplier > consumer else supplier\n",
    "        cp_cons[consumer_idx] -= capacity[supplier_index][consumer_idx]\n",
    "        cp_supp[supplier_index] -= capacity[supplier_index][consumer_idx]\n",
    "        supplier_index += 1"
   ]
  },
  {
   "cell_type": "code",
   "execution_count": 139,
   "metadata": {},
   "outputs": [
    {
     "name": "stdout",
     "output_type": "stream",
     "text": [
      "building new plan. old plan:\n",
      "[[130.   0.   0.   0.   0.   0.]\n",
      " [  0.  55.   0.   0.   0.   0.]\n",
      " [  0.  20.  60.   0.   0.   0.]\n",
      " [  0.   0.   5.  60.   0.   0.]\n",
      " [  0.   0.   0.   0.  75.  60.]]\n",
      "building new plan. old plan:\n",
      "[[55. 75.  0.  0.  0.  0.]\n",
      " [55.  0.  0.  0.  0.  0.]\n",
      " [20.  0. 60.  0.  0.  0.]\n",
      " [ 0.  0.  5. 60.  0.  0.]\n",
      " [ 0.  0.  0.  0. 75. 60.]]\n",
      "building new plan. old plan:\n",
      "[[65.  0. 65.  0.  0.  0.]\n",
      " [55.  0.  0.  0.  0.  0.]\n",
      " [10. 70.  0.  0.  0.  0.]\n",
      " [ 0.  5.  0. 60.  0.  0.]\n",
      " [ 0.  0.  0.  0. 75. 60.]]\n",
      "building new plan. old plan:\n",
      "[[70.  0.  0. 60.  0.  0.]\n",
      " [55.  0.  0.  0.  0.  0.]\n",
      " [ 5. 75.  0.  0.  0.  0.]\n",
      " [ 0.  0. 65.  0.  0.  0.]\n",
      " [ 0.  0.  0.  0. 75. 60.]]\n"
     ]
    }
   ],
   "source": [
    "consumer_index = 0\n",
    "while (consumer_index < len(consumers)) and (np.count_nonzero(capacity)!= len(consumers) + len(suppliers) - 1):\n",
    "    cp_cons = np.copy(consumers)\n",
    "    cp_supp = np.copy(suppliers)\n",
    "    satisfy(consumer_index, cp_cons, cp_supp)\n",
    "    idx = 0\n",
    "    while idx < len(cp_cons):\n",
    "        if idx != consumer_index: satisfy(idx, cp_cons, cp_supp)\n",
    "        idx += 1\n",
    "    if np.count_nonzero(capacity) == len(cp_cons) + len(cp_supp) - 1: break\n",
    "    print(\"building new plan. old plan:\")\n",
    "    print(capacity)\n",
    "    capacity = np.zeros(costs.shape)\n",
    "    consumer_index += 1\n"
   ]
  },
  {
   "cell_type": "code",
   "execution_count": 135,
   "metadata": {},
   "outputs": [
    {
     "data": {
      "text/plain": [
       "array([[55.,  0.,  0.,  0., 75.,  0.],\n",
       "       [55.,  0.,  0.,  0.,  0.,  0.],\n",
       "       [20., 60.,  0.,  0.,  0.,  0.],\n",
       "       [ 0., 15., 50.,  0.,  0.,  0.],\n",
       "       [ 0.,  0., 15., 60.,  0., 60.]])"
      ]
     },
     "execution_count": 135,
     "metadata": {},
     "output_type": "execute_result"
    }
   ],
   "source": [
    "capacity"
   ]
  },
  {
   "cell_type": "code",
   "execution_count": null,
   "metadata": {},
   "outputs": [],
   "source": []
  }
 ],
 "metadata": {
  "kernelspec": {
   "display_name": "Python 3",
   "language": "python",
   "name": "python3"
  },
  "language_info": {
   "codemirror_mode": {
    "name": "ipython",
    "version": 3
   },
   "file_extension": ".py",
   "mimetype": "text/x-python",
   "name": "python",
   "nbconvert_exporter": "python",
   "pygments_lexer": "ipython3",
   "version": "3.7.2"
  }
 },
 "nbformat": 4,
 "nbformat_minor": 2
}
